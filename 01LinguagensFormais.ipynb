{
  "nbformat": 4,
  "nbformat_minor": 0,
  "metadata": {
    "colab": {
      "name": "01LinguagensFormais.ipynb",
      "provenance": [],
      "authorship_tag": "ABX9TyPWSfHdZUF8PESic6+fnJOb",
      "include_colab_link": true
    },
    "kernelspec": {
      "name": "python3",
      "display_name": "Python 3"
    },
    "language_info": {
      "name": "python"
    }
  },
  "cells": [
    {
      "cell_type": "markdown",
      "metadata": {
        "id": "view-in-github",
        "colab_type": "text"
      },
      "source": [
        "<a href=\"https://colab.research.google.com/github/pierrout/Automato/blob/main/01LinguagensFormais.ipynb\" target=\"_parent\"><img src=\"https://colab.research.google.com/assets/colab-badge.svg\" alt=\"Open In Colab\"/></a>"
      ]
    },
    {
      "cell_type": "markdown",
      "metadata": {
        "id": "Bf53pntv-pyl"
      },
      "source": [
        "# **AFD**\n",
        "\n",
        "Library: Automata\n",
        "\n",
        "https://github.com/caleb531/automata"
      ]
    },
    {
      "cell_type": "code",
      "metadata": {
        "colab": {
          "base_uri": "https://localhost:8080/"
        },
        "id": "koyiahXE-hlD",
        "outputId": "60a56709-7fe0-4e3b-864f-464c2d581303"
      },
      "source": [
        "pip install automata-lib"
      ],
      "execution_count": 2,
      "outputs": [
        {
          "output_type": "stream",
          "name": "stdout",
          "text": [
            "Collecting automata-lib\n",
            "  Downloading automata_lib-5.0.0-py3-none-any.whl (32 kB)\n",
            "Requirement already satisfied: pydot in /usr/local/lib/python3.7/dist-packages (from automata-lib) (1.3.0)\n",
            "Requirement already satisfied: pyparsing>=2.1.4 in /usr/local/lib/python3.7/dist-packages (from pydot->automata-lib) (2.4.7)\n",
            "Installing collected packages: automata-lib\n",
            "Successfully installed automata-lib-5.0.0\n"
          ]
        }
      ]
    },
    {
      "cell_type": "code",
      "metadata": {
        "id": "clNjPiLco3Ub"
      },
      "source": [
        "from automata.fa.dfa import DFA\n",
        "# DFA which matches all binary strings ending in an odd number of '1's\n",
        "dfa = DFA(\n",
        "    states={'q0', 'q1', 'q2'},\n",
        "    input_symbols={'0', '1'},\n",
        "    transitions={\n",
        "        'q0': {'0': 'q0', '1': 'q1'},\n",
        "        'q1': {'0': 'q1', '1': 'q2'},\n",
        "        'q2': {'0': 'q2', '1': 'q0'}\n",
        "    },\n",
        "    initial_state='q0',\n",
        "    final_states={'q0', 'q2'}\n",
        ")"
      ],
      "execution_count": 7,
      "outputs": []
    },
    {
      "cell_type": "code",
      "metadata": {
        "colab": {
          "base_uri": "https://localhost:8080/",
          "height": 35
        },
        "id": "FMk5qJPq0_Dv",
        "outputId": "9e95f1c0-5fa9-4fae-ee17-e62e5ed24acc"
      },
      "source": [
        "dfa.read_input('011')"
      ],
      "execution_count": 10,
      "outputs": [
        {
          "output_type": "execute_result",
          "data": {
            "application/vnd.google.colaboratory.intrinsic+json": {
              "type": "string"
            },
            "text/plain": [
              "'q2'"
            ]
          },
          "metadata": {},
          "execution_count": 10
        }
      ]
    },
    {
      "cell_type": "code",
      "metadata": {
        "colab": {
          "base_uri": "https://localhost:8080/"
        },
        "id": "zScN29Qz1IN3",
        "outputId": "3f66f3d8-ebb3-40cc-991a-bb4e8d92f66a"
      },
      "source": [
        "list(dfa.read_input_stepwise('0101'))"
      ],
      "execution_count": 12,
      "outputs": [
        {
          "output_type": "execute_result",
          "data": {
            "text/plain": [
              "['q0', 'q0', 'q1', 'q1', 'q2']"
            ]
          },
          "metadata": {},
          "execution_count": 12
        }
      ]
    }
  ]
}