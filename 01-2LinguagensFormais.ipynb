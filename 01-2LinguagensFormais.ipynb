{
  "nbformat": 4,
  "nbformat_minor": 0,
  "metadata": {
    "colab": {
      "name": "01LinguagensFormais.ipynb",
      "provenance": [],
      "authorship_tag": "ABX9TyPWFftlr44DYw/1bfaebx2B",
      "include_colab_link": true
    },
    "kernelspec": {
      "name": "python3",
      "display_name": "Python 3"
    },
    "language_info": {
      "name": "python"
    }
  },
  "cells": [
    {
      "cell_type": "markdown",
      "metadata": {
        "id": "view-in-github",
        "colab_type": "text"
      },
      "source": [
        "<a href=\"https://colab.research.google.com/github/pierrout/Automato/blob/main/01-2LinguagensFormais.ipynb\" target=\"_parent\"><img src=\"https://colab.research.google.com/assets/colab-badge.svg\" alt=\"Open In Colab\"/></a>"
      ]
    },
    {
      "cell_type": "markdown",
      "metadata": {
        "id": "Bf53pntv-pyl"
      },
      "source": [
        "# **AFD**\n",
        "\n",
        "\n",
        "**The function transition return gives me only one state.** \n",
        "\n",
        "Library: Automata\n",
        "\n",
        "https://github.com/lewiuberg/visual-automata"
      ]
    },
    {
      "cell_type": "code",
      "metadata": {
        "id": "koyiahXE-hlD"
      },
      "source": [
        "pip install visual-automata"
      ],
      "execution_count": null,
      "outputs": []
    },
    {
      "cell_type": "markdown",
      "metadata": {
        "id": "rVFU9hlyjmq0"
      },
      "source": [
        "**Classes that will be imported**"
      ]
    },
    {
      "cell_type": "code",
      "metadata": {
        "id": "GkxUri_4jg9v"
      },
      "source": [
        "from automata.fa.dfa import DFA\n",
        "\n",
        "from visual_automata.fa.dfa import VisualDFA"
      ],
      "execution_count": 16,
      "outputs": []
    },
    {
      "cell_type": "code",
      "metadata": {
        "id": "clNjPiLco3Ub"
      },
      "source": [
        "\n",
        "# DFA which matches all binary strings ending in an odd number of '1's\n",
        "dfa = DFA(\n",
        "    states={'q0', 'q1', 'q2'},\n",
        "    input_symbols={'0', '1'},\n",
        "    transitions={\n",
        "        'q0': {'0': 'q0', '1': 'q1'},\n",
        "        'q1': {'0': 'q1', '1': 'q2'},\n",
        "        'q2': {'0': 'q2', '1': 'q0'}\n",
        "    },\n",
        "    initial_state='q0',\n",
        "    final_states={ 'q2'},\n",
        ")"
      ],
      "execution_count": 17,
      "outputs": []
    },
    {
      "cell_type": "markdown",
      "metadata": {
        "id": "mv-opjpGk5cW"
      },
      "source": [
        "**I'm converting automata-lib DFA to VisualDFA.**"
      ]
    },
    {
      "cell_type": "code",
      "metadata": {
        "id": "yLN21KO_kmul"
      },
      "source": [
        "dfa = VisualDFA(dfa)"
      ],
      "execution_count": 18,
      "outputs": []
    },
    {
      "cell_type": "markdown",
      "metadata": {
        "id": "PVfAjYCKlFEV"
      },
      "source": [
        "**Showing the output of my automata**\n",
        "\n",
        "Accessing object's attribute"
      ]
    },
    {
      "cell_type": "code",
      "metadata": {
        "colab": {
          "base_uri": "https://localhost:8080/",
          "height": 143
        },
        "id": "yo_RTK6Pkuve",
        "outputId": "08f92373-39b2-43e2-9bbd-804c597c4daf"
      },
      "source": [
        "dfa.table"
      ],
      "execution_count": 19,
      "outputs": [
        {
          "output_type": "execute_result",
          "data": {
            "text/html": [
              "<div>\n",
              "<style scoped>\n",
              "    .dataframe tbody tr th:only-of-type {\n",
              "        vertical-align: middle;\n",
              "    }\n",
              "\n",
              "    .dataframe tbody tr th {\n",
              "        vertical-align: top;\n",
              "    }\n",
              "\n",
              "    .dataframe thead th {\n",
              "        text-align: right;\n",
              "    }\n",
              "</style>\n",
              "<table border=\"1\" class=\"dataframe\">\n",
              "  <thead>\n",
              "    <tr style=\"text-align: right;\">\n",
              "      <th></th>\n",
              "      <th>0</th>\n",
              "      <th>1</th>\n",
              "    </tr>\n",
              "  </thead>\n",
              "  <tbody>\n",
              "    <tr>\n",
              "      <th>→q0</th>\n",
              "      <td>q0</td>\n",
              "      <td>q1</td>\n",
              "    </tr>\n",
              "    <tr>\n",
              "      <th>q1</th>\n",
              "      <td>q1</td>\n",
              "      <td>*q2</td>\n",
              "    </tr>\n",
              "    <tr>\n",
              "      <th>*q2</th>\n",
              "      <td>*q2</td>\n",
              "      <td>q0</td>\n",
              "    </tr>\n",
              "  </tbody>\n",
              "</table>\n",
              "</div>"
            ],
            "text/plain": [
              "       0    1\n",
              "→q0   q0   q1\n",
              "q1    q1  *q2\n",
              "*q2  *q2   q0"
            ]
          },
          "metadata": {},
          "execution_count": 19
        }
      ]
    },
    {
      "cell_type": "markdown",
      "metadata": {
        "id": "_P5a-xEVmkjc"
      },
      "source": [
        "**Object's methods to show a diagram**"
      ]
    },
    {
      "cell_type": "code",
      "metadata": {
        "colab": {
          "base_uri": "https://localhost:8080/",
          "height": 188
        },
        "id": "XmDaxTuqmErO",
        "outputId": "dc783d42-8977-4f3c-d040-3ef0dea3ba03"
      },
      "source": [
        "dfa.show_diagram()"
      ],
      "execution_count": 20,
      "outputs": [
        {
          "output_type": "execute_result",
          "data": {
            "text/plain": [
              "<graphviz.dot.Digraph at 0x7f7b966be4d0>"
            ],
            "image/svg+xml": "<?xml version=\"1.0\" encoding=\"UTF-8\" standalone=\"no\"?>\n<!DOCTYPE svg PUBLIC \"-//W3C//DTD SVG 1.1//EN\"\n \"http://www.w3.org/Graphics/SVG/1.1/DTD/svg11.dtd\">\n<!-- Generated by graphviz version 2.40.1 (20161225.0304)\n -->\n<!-- Title: %3 Pages: 1 -->\n<svg width=\"285pt\" height=\"125pt\"\n viewBox=\"0.00 0.00 285.39 124.60\" xmlns=\"http://www.w3.org/2000/svg\" xmlns:xlink=\"http://www.w3.org/1999/xlink\">\n<g id=\"graph0\" class=\"graph\" transform=\"scale(1 1) rotate(0) translate(4 120.5963)\">\n<title>%3</title>\n<polygon fill=\"#ffffff\" stroke=\"transparent\" points=\"-4,4 -4,-120.5963 281.3889,-120.5963 281.3889,4 -4,4\"/>\n<!-- Initial -->\n<g id=\"node1\" class=\"node\">\n<title>Initial</title>\n<ellipse fill=\"#000000\" stroke=\"#000000\" cx=\"1.8\" cy=\"-24.7982\" rx=\"1.8\" ry=\"1.8\"/>\n</g>\n<!-- q0 -->\n<g id=\"node2\" class=\"node\">\n<title>q0</title>\n<ellipse fill=\"none\" stroke=\"#000000\" cx=\"61.3982\" cy=\"-24.7982\" rx=\"20.5982\" ry=\"20.5982\"/>\n<text text-anchor=\"middle\" x=\"61.3982\" y=\"-21.0982\" font-family=\"Times,serif\" font-size=\"14.00\" fill=\"#000000\">q0</text>\n</g>\n<!-- Initial&#45;&gt;q0 -->\n<g id=\"edge1\" class=\"edge\">\n<title>Initial&#45;&gt;q0</title>\n<path fill=\"none\" stroke=\"#000000\" d=\"M3.7829,-24.7982C8.3217,-24.7982 19.9751,-24.7982 31.6235,-24.7982\"/>\n<polygon fill=\"#000000\" stroke=\"#000000\" points=\"31.9123,-27.7733 40.4123,-24.7982 31.9122,-21.8233 31.9123,-27.7733\"/>\n</g>\n<!-- q0&#45;&gt;q0 -->\n<g id=\"edge2\" class=\"edge\">\n<title>q0&#45;&gt;q0</title>\n<path fill=\"none\" stroke=\"#000000\" d=\"M54.4836,-44.7606C53.5269,-54.7161 55.8317,-63.5963 61.3982,-63.5963 65.2251,-63.5963 67.5104,-59.399 68.2541,-53.5407\"/>\n<polygon fill=\"#000000\" stroke=\"#000000\" points=\"71.2308,-53.2803 68.3127,-44.7606 65.2809,-53.2405 71.2308,-53.2803\"/>\n<text text-anchor=\"middle\" x=\"61.3982\" y=\"-67.3963\" font-family=\"Times,serif\" font-size=\"14.00\" fill=\"#000000\"> 0 </text>\n</g>\n<!-- q1 -->\n<g id=\"node3\" class=\"node\">\n<title>q1</title>\n<ellipse fill=\"none\" stroke=\"#000000\" cx=\"154.9945\" cy=\"-62.7982\" rx=\"20.5982\" ry=\"20.5982\"/>\n<text text-anchor=\"middle\" x=\"154.9945\" y=\"-59.0982\" font-family=\"Times,serif\" font-size=\"14.00\" fill=\"#000000\">q1</text>\n</g>\n<!-- q0&#45;&gt;q1 -->\n<g id=\"edge3\" class=\"edge\">\n<title>q0&#45;&gt;q1</title>\n<path fill=\"none\" stroke=\"#000000\" d=\"M80.7914,-32.6718C94.3449,-38.1745 112.6336,-45.5997 127.6627,-51.7015\"/>\n<polygon fill=\"#000000\" stroke=\"#000000\" points=\"126.6313,-54.4935 135.6261,-54.9346 128.8696,-48.9806 126.6313,-54.4935\"/>\n<text text-anchor=\"middle\" x=\"108.1963\" y=\"-49.5982\" font-family=\"Times,serif\" font-size=\"14.00\" fill=\"#000000\"> 1 </text>\n</g>\n<!-- q1&#45;&gt;q1 -->\n<g id=\"edge4\" class=\"edge\">\n<title>q1&#45;&gt;q1</title>\n<path fill=\"none\" stroke=\"#000000\" d=\"M146.7253,-81.962C145.3201,-92.2362 148.0765,-101.5963 154.9945,-101.5963 159.8587,-101.5963 162.6654,-96.9688 163.4148,-90.6498\"/>\n<polygon fill=\"#000000\" stroke=\"#000000\" points=\"166.3861,-90.4089 163.2636,-81.962 160.437,-90.5125 166.3861,-90.4089\"/>\n<text text-anchor=\"middle\" x=\"154.9945\" y=\"-105.3963\" font-family=\"Times,serif\" font-size=\"14.00\" fill=\"#000000\"> 0 </text>\n</g>\n<!-- q2 -->\n<g id=\"node4\" class=\"node\">\n<title>q2</title>\n<ellipse fill=\"none\" stroke=\"#000000\" cx=\"252.5908\" cy=\"-24.7982\" rx=\"20.6302\" ry=\"20.6302\"/>\n<ellipse fill=\"none\" stroke=\"#000000\" cx=\"252.5908\" cy=\"-24.7982\" rx=\"24.5979\" ry=\"24.5979\"/>\n<text text-anchor=\"middle\" x=\"252.5908\" y=\"-21.0982\" font-family=\"Times,serif\" font-size=\"14.00\" fill=\"#000000\">q2</text>\n</g>\n<!-- q1&#45;&gt;q2 -->\n<g id=\"edge5\" class=\"edge\">\n<title>q1&#45;&gt;q2</title>\n<path fill=\"none\" stroke=\"#000000\" d=\"M174.7445,-55.1083C188.0914,-49.9116 205.9966,-42.94 221.2699,-36.9932\"/>\n<polygon fill=\"#000000\" stroke=\"#000000\" points=\"222.5973,-39.669 229.4386,-33.8127 220.4384,-34.1245 222.5973,-39.669\"/>\n<text text-anchor=\"middle\" x=\"201.7926\" y=\"-50.5982\" font-family=\"Times,serif\" font-size=\"14.00\" fill=\"#000000\"> 1 </text>\n</g>\n<!-- q2&#45;&gt;q0 -->\n<g id=\"edge7\" class=\"edge\">\n<title>q2&#45;&gt;q0</title>\n<path fill=\"none\" stroke=\"#000000\" d=\"M227.7274,-21.9549C212.712,-20.3817 193.1794,-18.5889 175.7926,-17.7982 157.3245,-16.9582 152.6623,-16.9124 134.1963,-17.7982 119.8733,-18.4852 104.0195,-19.9284 90.7733,-21.3269\"/>\n<polygon fill=\"#000000\" stroke=\"#000000\" points=\"90.1966,-18.3971 82.0702,-22.2781 90.8431,-24.3119 90.1966,-18.3971\"/>\n<text text-anchor=\"middle\" x=\"154.9945\" y=\"-21.5982\" font-family=\"Times,serif\" font-size=\"14.00\" fill=\"#000000\"> 1 </text>\n</g>\n<!-- q2&#45;&gt;q2 -->\n<g id=\"edge6\" class=\"edge\">\n<title>q2&#45;&gt;q2</title>\n<path fill=\"none\" stroke=\"#000000\" d=\"M243.3623,-48.1303C242.4834,-58.5686 245.5595,-67.5963 252.5908,-67.5963 257.5346,-67.5963 260.5231,-63.1331 261.5563,-56.8546\"/>\n<polygon fill=\"#000000\" stroke=\"#000000\" points=\"264.5368,-56.7161 261.8193,-48.1303 258.5895,-56.5367 264.5368,-56.7161\"/>\n<text text-anchor=\"middle\" x=\"252.5908\" y=\"-71.3963\" font-family=\"Times,serif\" font-size=\"14.00\" fill=\"#000000\"> 0 </text>\n</g>\n</g>\n</svg>\n"
          },
          "metadata": {},
          "execution_count": 20
        }
      ]
    },
    {
      "cell_type": "markdown",
      "metadata": {
        "id": "ApPPItUnnOeV"
      },
      "source": [
        "**I'm checking what is coming in and tracking them.**\n"
      ]
    },
    {
      "cell_type": "code",
      "metadata": {
        "colab": {
          "base_uri": "https://localhost:8080/",
          "height": 206
        },
        "id": "1qp68-1dm8p1",
        "outputId": "98d1784e-1840-400e-e0ce-63b84a0d59d6"
      },
      "source": [
        "dfa.input_check(\"1001\")"
      ],
      "execution_count": 21,
      "outputs": [
        {
          "output_type": "execute_result",
          "data": {
            "text/html": [
              "<div>\n",
              "<style scoped>\n",
              "    .dataframe tbody tr th:only-of-type {\n",
              "        vertical-align: middle;\n",
              "    }\n",
              "\n",
              "    .dataframe tbody tr th {\n",
              "        vertical-align: top;\n",
              "    }\n",
              "\n",
              "    .dataframe thead tr th {\n",
              "        text-align: left;\n",
              "    }\n",
              "</style>\n",
              "<table border=\"1\" class=\"dataframe\">\n",
              "  <thead>\n",
              "    <tr>\n",
              "      <th></th>\n",
              "      <th colspan=\"3\" halign=\"left\">[Accepted]</th>\n",
              "    </tr>\n",
              "    <tr>\n",
              "      <th>Step:</th>\n",
              "      <th>Current state:</th>\n",
              "      <th>Input symbol:</th>\n",
              "      <th>New state:</th>\n",
              "    </tr>\n",
              "  </thead>\n",
              "  <tbody>\n",
              "    <tr>\n",
              "      <th>1</th>\n",
              "      <td>→q0</td>\n",
              "      <td>1</td>\n",
              "      <td>q1</td>\n",
              "    </tr>\n",
              "    <tr>\n",
              "      <th>2</th>\n",
              "      <td>q1</td>\n",
              "      <td>0</td>\n",
              "      <td>q1</td>\n",
              "    </tr>\n",
              "    <tr>\n",
              "      <th>3</th>\n",
              "      <td>q1</td>\n",
              "      <td>0</td>\n",
              "      <td>q1</td>\n",
              "    </tr>\n",
              "    <tr>\n",
              "      <th>4</th>\n",
              "      <td>q1</td>\n",
              "      <td>1</td>\n",
              "      <td>*q2</td>\n",
              "    </tr>\n",
              "  </tbody>\n",
              "</table>\n",
              "</div>"
            ],
            "text/plain": [
              "          [Accepted]                         \n",
              "Step: Current state: Input symbol: New state:\n",
              "1                →q0             1         q1\n",
              "2                 q1             0         q1\n",
              "3                 q1             0         q1\n",
              "4                 q1             1        *q2"
            ]
          },
          "metadata": {},
          "execution_count": 21
        }
      ]
    },
    {
      "cell_type": "code",
      "metadata": {
        "colab": {
          "base_uri": "https://localhost:8080/",
          "height": 461
        },
        "id": "x6E7LUpupAEm",
        "outputId": "481bec7a-51da-4b2b-e6ff-18f34fb0d333"
      },
      "source": [
        "dfa.show_diagram(\"1001\")"
      ],
      "execution_count": 22,
      "outputs": [
        {
          "output_type": "display_data",
          "data": {
            "text/html": [
              "<div>\n",
              "<style scoped>\n",
              "    .dataframe tbody tr th:only-of-type {\n",
              "        vertical-align: middle;\n",
              "    }\n",
              "\n",
              "    .dataframe tbody tr th {\n",
              "        vertical-align: top;\n",
              "    }\n",
              "\n",
              "    .dataframe thead tr th {\n",
              "        text-align: left;\n",
              "    }\n",
              "</style>\n",
              "<table border=\"1\" class=\"dataframe\">\n",
              "  <thead>\n",
              "    <tr>\n",
              "      <th></th>\n",
              "      <th colspan=\"3\" halign=\"left\">[Accepted]</th>\n",
              "    </tr>\n",
              "    <tr>\n",
              "      <th>Step:</th>\n",
              "      <th>Current state:</th>\n",
              "      <th>Input symbol:</th>\n",
              "      <th>New state:</th>\n",
              "    </tr>\n",
              "  </thead>\n",
              "  <tbody>\n",
              "    <tr>\n",
              "      <th>1</th>\n",
              "      <td>→q0</td>\n",
              "      <td>1</td>\n",
              "      <td>q1</td>\n",
              "    </tr>\n",
              "    <tr>\n",
              "      <th>2</th>\n",
              "      <td>q1</td>\n",
              "      <td>0</td>\n",
              "      <td>q1</td>\n",
              "    </tr>\n",
              "    <tr>\n",
              "      <th>3</th>\n",
              "      <td>q1</td>\n",
              "      <td>0</td>\n",
              "      <td>q1</td>\n",
              "    </tr>\n",
              "    <tr>\n",
              "      <th>4</th>\n",
              "      <td>q1</td>\n",
              "      <td>1</td>\n",
              "      <td>*q2</td>\n",
              "    </tr>\n",
              "  </tbody>\n",
              "</table>\n",
              "</div>"
            ],
            "text/plain": [
              "          [Accepted]                         \n",
              "Step: Current state: Input symbol: New state:\n",
              "1                →q0             1         q1\n",
              "2                 q1             0         q1\n",
              "3                 q1             0         q1\n",
              "4                 q1             1        *q2"
            ]
          },
          "metadata": {}
        },
        {
          "output_type": "execute_result",
          "data": {
            "text/plain": [
              "<graphviz.dot.Digraph at 0x7f7b966becd0>"
            ],
            "image/svg+xml": "<?xml version=\"1.0\" encoding=\"UTF-8\" standalone=\"no\"?>\n<!DOCTYPE svg PUBLIC \"-//W3C//DTD SVG 1.1//EN\"\n \"http://www.w3.org/Graphics/SVG/1.1/DTD/svg11.dtd\">\n<!-- Generated by graphviz version 2.40.1 (20161225.0304)\n -->\n<!-- Title: %3 Pages: 1 -->\n<svg width=\"295pt\" height=\"188pt\"\n viewBox=\"0.00 0.00 295.39 187.60\" xmlns=\"http://www.w3.org/2000/svg\" xmlns:xlink=\"http://www.w3.org/1999/xlink\">\n<g id=\"graph0\" class=\"graph\" transform=\"scale(1 1) rotate(0) translate(4 183.5963)\">\n<title>%3</title>\n<polygon fill=\"#ffffff\" stroke=\"transparent\" points=\"-4,4 -4,-183.5963 291.3889,-183.5963 291.3889,4 -4,4\"/>\n<!-- Initial -->\n<g id=\"node1\" class=\"node\">\n<title>Initial</title>\n<ellipse fill=\"#000000\" stroke=\"#000000\" cx=\"1.8\" cy=\"-24.7982\" rx=\"1.8\" ry=\"1.8\"/>\n</g>\n<!-- q0 -->\n<g id=\"node2\" class=\"node\">\n<title>q0</title>\n<ellipse fill=\"none\" stroke=\"#000000\" cx=\"61.3982\" cy=\"-24.7982\" rx=\"20.5982\" ry=\"20.5982\"/>\n<text text-anchor=\"middle\" x=\"61.3982\" y=\"-21.0982\" font-family=\"Times,serif\" font-size=\"14.00\" fill=\"#000000\">q0</text>\n</g>\n<!-- Initial&#45;&gt;q0 -->\n<g id=\"edge1\" class=\"edge\">\n<title>Initial&#45;&gt;q0</title>\n<path fill=\"none\" stroke=\"#000000\" d=\"M3.7829,-24.7982C8.3217,-24.7982 19.9751,-24.7982 31.6235,-24.7982\"/>\n<polygon fill=\"#000000\" stroke=\"#000000\" points=\"31.9123,-27.7733 40.4123,-24.7982 31.9122,-21.8233 31.9123,-27.7733\"/>\n</g>\n<!-- q0&#45;&gt;q0 -->\n<g id=\"edge6\" class=\"edge\">\n<title>q0&#45;&gt;q0</title>\n<path fill=\"none\" stroke=\"#000000\" d=\"M54.4836,-44.7606C53.5269,-54.7161 55.8317,-63.5963 61.3982,-63.5963 65.2251,-63.5963 67.5104,-59.399 68.2541,-53.5407\"/>\n<polygon fill=\"#000000\" stroke=\"#000000\" points=\"71.2308,-53.2803 68.3127,-44.7606 65.2809,-53.2405 71.2308,-53.2803\"/>\n<text text-anchor=\"middle\" x=\"61.3982\" y=\"-67.3963\" font-family=\"Times,serif\" font-size=\"14.00\" fill=\"#000000\"> 0 </text>\n</g>\n<!-- q1 -->\n<g id=\"node3\" class=\"node\">\n<title>q1</title>\n<ellipse fill=\"none\" stroke=\"#000000\" cx=\"159.9945\" cy=\"-62.7982\" rx=\"20.5982\" ry=\"20.5982\"/>\n<text text-anchor=\"middle\" x=\"159.9945\" y=\"-59.0982\" font-family=\"Times,serif\" font-size=\"14.00\" fill=\"#000000\">q1</text>\n</g>\n<!-- q0&#45;&gt;q1 -->\n<g id=\"edge2\" class=\"edge\">\n<title>q0&#45;&gt;q1</title>\n<path fill=\"none\" stroke=\"#ffff00\" stroke-width=\"2.5\" d=\"M80.8776,-32.3057C95.5971,-37.9788 115.9977,-45.8414 132.3962,-52.1615\"/>\n<polygon fill=\"#ffff00\" stroke=\"#ffff00\" stroke-width=\"2.5\" points=\"131.5542,-55.0253 140.5555,-55.3062 133.694,-49.4733 131.5542,-55.0253\"/>\n<text text-anchor=\"middle\" x=\"110.6963\" y=\"-65.5982\" font-family=\"Times,serif\" font-size=\"14.00\" fill=\"#000000\"> [1]</text>\n<text text-anchor=\"middle\" x=\"110.6963\" y=\"-50.5982\" font-family=\"Times,serif\" font-size=\"14.00\" fill=\"#000000\">1 </text>\n</g>\n<!-- q1&#45;&gt;q1 -->\n<g id=\"edge3\" class=\"edge\">\n<title>q1&#45;&gt;q1</title>\n<path fill=\"none\" stroke=\"#aaff00\" stroke-width=\"2.5\" d=\"M155.6043,-83.1582C155.0623,-92.9513 156.5257,-101.5963 159.9945,-101.5963 162.3792,-101.5963 163.8161,-97.5102 164.3052,-91.7741\"/>\n<polygon fill=\"#aaff00\" stroke=\"#aaff00\" stroke-width=\"2.5\" points=\"167.2811,-91.6853 164.3846,-83.1582 161.3313,-91.6304 167.2811,-91.6853\"/>\n<text text-anchor=\"middle\" x=\"159.9945\" y=\"-120.3963\" font-family=\"Times,serif\" font-size=\"14.00\" fill=\"#000000\"> [2]</text>\n<text text-anchor=\"middle\" x=\"159.9945\" y=\"-105.3963\" font-family=\"Times,serif\" font-size=\"14.00\" fill=\"#000000\">0 </text>\n</g>\n<!-- q1&#45;&gt;q1 -->\n<g id=\"edge4\" class=\"edge\">\n<title>q1&#45;&gt;q1</title>\n<path fill=\"none\" stroke=\"#55ff00\" stroke-width=\"2.5\" d=\"M153.0385,-82.5712C148.8164,-104.4167 151.1351,-131.5963 159.9945,-131.5963 167.7118,-131.5963 170.466,-110.9723 168.2571,-91.2155\"/>\n<polygon fill=\"#55ff00\" stroke=\"#55ff00\" stroke-width=\"2.5\" points=\"171.1626,-90.531 166.9505,-82.5712 165.2794,-91.4204 171.1626,-90.531\"/>\n<text text-anchor=\"middle\" x=\"159.9945\" y=\"-150.3963\" font-family=\"Times,serif\" font-size=\"14.00\" fill=\"#000000\"> [3]</text>\n<text text-anchor=\"middle\" x=\"159.9945\" y=\"-135.3963\" font-family=\"Times,serif\" font-size=\"14.00\" fill=\"#000000\">0 </text>\n</g>\n<!-- q2 -->\n<g id=\"node4\" class=\"node\">\n<title>q2</title>\n<ellipse fill=\"none\" stroke=\"#000000\" cx=\"262.5908\" cy=\"-24.7982\" rx=\"20.6302\" ry=\"20.6302\"/>\n<ellipse fill=\"none\" stroke=\"#000000\" cx=\"262.5908\" cy=\"-24.7982\" rx=\"24.5979\" ry=\"24.5979\"/>\n<text text-anchor=\"middle\" x=\"262.5908\" y=\"-21.0982\" font-family=\"Times,serif\" font-size=\"14.00\" fill=\"#000000\">q2</text>\n</g>\n<!-- q1&#45;&gt;q2 -->\n<g id=\"edge5\" class=\"edge\">\n<title>q1&#45;&gt;q2</title>\n<path fill=\"none\" stroke=\"#00ff00\" stroke-width=\"2.5\" d=\"M179.7761,-55.4714C194.2551,-50.1086 214.2033,-42.7201 230.8934,-36.5383\"/>\n<polygon fill=\"#00ff00\" stroke=\"#00ff00\" stroke-width=\"2.5\" points=\"232.3405,-39.1749 239.278,-33.4328 230.2739,-33.5954 232.3405,-39.1749\"/>\n<text text-anchor=\"middle\" x=\"209.2926\" y=\"-66.5982\" font-family=\"Times,serif\" font-size=\"14.00\" fill=\"#000000\"> [4]</text>\n<text text-anchor=\"middle\" x=\"209.2926\" y=\"-51.5982\" font-family=\"Times,serif\" font-size=\"14.00\" fill=\"#000000\">1 </text>\n</g>\n<!-- q2&#45;&gt;q0 -->\n<g id=\"edge8\" class=\"edge\">\n<title>q2&#45;&gt;q0</title>\n<path fill=\"none\" stroke=\"#000000\" d=\"M237.9275,-22.1353C221.7127,-20.521 200.0166,-18.6192 180.7926,-17.7982 162.3222,-17.0093 157.665,-16.969 139.1963,-17.7982 123.1531,-18.5185 105.3049,-20.0703 90.7547,-21.5301\"/>\n<polygon fill=\"#000000\" stroke=\"#000000\" points=\"90.3155,-18.5846 82.1669,-22.419 90.9281,-24.503 90.3155,-18.5846\"/>\n<text text-anchor=\"middle\" x=\"159.9945\" y=\"-21.5982\" font-family=\"Times,serif\" font-size=\"14.00\" fill=\"#000000\"> 1 </text>\n</g>\n<!-- q2&#45;&gt;q2 -->\n<g id=\"edge7\" class=\"edge\">\n<title>q2&#45;&gt;q2</title>\n<path fill=\"none\" stroke=\"#000000\" d=\"M253.0336,-47.6945C251.991,-58.3161 255.1767,-67.5963 262.5908,-67.5963 267.8038,-67.5963 270.9264,-63.0083 271.9585,-56.592\"/>\n<polygon fill=\"#000000\" stroke=\"#000000\" points=\"274.9413,-56.256 272.148,-47.6945 268.9926,-56.1292 274.9413,-56.256\"/>\n<text text-anchor=\"middle\" x=\"262.5908\" y=\"-71.3963\" font-family=\"Times,serif\" font-size=\"14.00\" fill=\"#000000\"> 0 </text>\n</g>\n</g>\n</svg>\n"
          },
          "metadata": {},
          "execution_count": 22
        }
      ]
    },
    {
      "cell_type": "code",
      "metadata": {
        "colab": {
          "base_uri": "https://localhost:8080/",
          "height": 334
        },
        "id": "2EHFA_7xr71k",
        "outputId": "aa43f504-272f-41f1-9b5a-2f3ad861e3fe"
      },
      "source": [
        "dfa.show_diagram(\"10\")"
      ],
      "execution_count": 23,
      "outputs": [
        {
          "output_type": "display_data",
          "data": {
            "text/html": [
              "<div>\n",
              "<style scoped>\n",
              "    .dataframe tbody tr th:only-of-type {\n",
              "        vertical-align: middle;\n",
              "    }\n",
              "\n",
              "    .dataframe tbody tr th {\n",
              "        vertical-align: top;\n",
              "    }\n",
              "\n",
              "    .dataframe thead tr th {\n",
              "        text-align: left;\n",
              "    }\n",
              "</style>\n",
              "<table border=\"1\" class=\"dataframe\">\n",
              "  <thead>\n",
              "    <tr>\n",
              "      <th></th>\n",
              "      <th colspan=\"3\" halign=\"left\">[Rejected]</th>\n",
              "    </tr>\n",
              "    <tr>\n",
              "      <th>Step:</th>\n",
              "      <th>Current state:</th>\n",
              "      <th>Input symbol:</th>\n",
              "      <th>New state:</th>\n",
              "    </tr>\n",
              "  </thead>\n",
              "  <tbody>\n",
              "    <tr>\n",
              "      <th>1</th>\n",
              "      <td>→q0</td>\n",
              "      <td>1</td>\n",
              "      <td>q1</td>\n",
              "    </tr>\n",
              "    <tr>\n",
              "      <th>2</th>\n",
              "      <td>q1</td>\n",
              "      <td>0</td>\n",
              "      <td>q1</td>\n",
              "    </tr>\n",
              "  </tbody>\n",
              "</table>\n",
              "</div>"
            ],
            "text/plain": [
              "          [Rejected]                         \n",
              "Step: Current state: Input symbol: New state:\n",
              "1                →q0             1         q1\n",
              "2                 q1             0         q1"
            ]
          },
          "metadata": {}
        },
        {
          "output_type": "execute_result",
          "data": {
            "text/plain": [
              "<graphviz.dot.Digraph at 0x7f7b9d5aa9d0>"
            ],
            "image/svg+xml": "<?xml version=\"1.0\" encoding=\"UTF-8\" standalone=\"no\"?>\n<!DOCTYPE svg PUBLIC \"-//W3C//DTD SVG 1.1//EN\"\n \"http://www.w3.org/Graphics/SVG/1.1/DTD/svg11.dtd\">\n<!-- Generated by graphviz version 2.40.1 (20161225.0304)\n -->\n<!-- Title: %3 Pages: 1 -->\n<svg width=\"290pt\" height=\"140pt\"\n viewBox=\"0.00 0.00 290.39 139.60\" xmlns=\"http://www.w3.org/2000/svg\" xmlns:xlink=\"http://www.w3.org/1999/xlink\">\n<g id=\"graph0\" class=\"graph\" transform=\"scale(1 1) rotate(0) translate(4 135.5963)\">\n<title>%3</title>\n<polygon fill=\"#ffffff\" stroke=\"transparent\" points=\"-4,4 -4,-135.5963 286.3889,-135.5963 286.3889,4 -4,4\"/>\n<!-- Initial -->\n<g id=\"node1\" class=\"node\">\n<title>Initial</title>\n<ellipse fill=\"#000000\" stroke=\"#000000\" cx=\"1.8\" cy=\"-24.7982\" rx=\"1.8\" ry=\"1.8\"/>\n</g>\n<!-- q0 -->\n<g id=\"node2\" class=\"node\">\n<title>q0</title>\n<ellipse fill=\"none\" stroke=\"#000000\" cx=\"61.3982\" cy=\"-24.7982\" rx=\"20.5982\" ry=\"20.5982\"/>\n<text text-anchor=\"middle\" x=\"61.3982\" y=\"-21.0982\" font-family=\"Times,serif\" font-size=\"14.00\" fill=\"#000000\">q0</text>\n</g>\n<!-- Initial&#45;&gt;q0 -->\n<g id=\"edge1\" class=\"edge\">\n<title>Initial&#45;&gt;q0</title>\n<path fill=\"none\" stroke=\"#000000\" d=\"M3.7829,-24.7982C8.3217,-24.7982 19.9751,-24.7982 31.6235,-24.7982\"/>\n<polygon fill=\"#000000\" stroke=\"#000000\" points=\"31.9123,-27.7733 40.4123,-24.7982 31.9122,-21.8233 31.9123,-27.7733\"/>\n</g>\n<!-- q0&#45;&gt;q0 -->\n<g id=\"edge4\" class=\"edge\">\n<title>q0&#45;&gt;q0</title>\n<path fill=\"none\" stroke=\"#000000\" d=\"M54.4836,-44.7606C53.5269,-54.7161 55.8317,-63.5963 61.3982,-63.5963 65.2251,-63.5963 67.5104,-59.399 68.2541,-53.5407\"/>\n<polygon fill=\"#000000\" stroke=\"#000000\" points=\"71.2308,-53.2803 68.3127,-44.7606 65.2809,-53.2405 71.2308,-53.2803\"/>\n<text text-anchor=\"middle\" x=\"61.3982\" y=\"-67.3963\" font-family=\"Times,serif\" font-size=\"14.00\" fill=\"#000000\"> 0 </text>\n</g>\n<!-- q1 -->\n<g id=\"node3\" class=\"node\">\n<title>q1</title>\n<ellipse fill=\"none\" stroke=\"#000000\" cx=\"159.9945\" cy=\"-62.7982\" rx=\"20.5982\" ry=\"20.5982\"/>\n<text text-anchor=\"middle\" x=\"159.9945\" y=\"-59.0982\" font-family=\"Times,serif\" font-size=\"14.00\" fill=\"#000000\">q1</text>\n</g>\n<!-- q0&#45;&gt;q1 -->\n<g id=\"edge2\" class=\"edge\">\n<title>q0&#45;&gt;q1</title>\n<path fill=\"none\" stroke=\"#ffff00\" stroke-width=\"2.5\" d=\"M80.8776,-32.3057C95.5971,-37.9788 115.9977,-45.8414 132.3962,-52.1615\"/>\n<polygon fill=\"#ffff00\" stroke=\"#ffff00\" stroke-width=\"2.5\" points=\"131.5542,-55.0253 140.5555,-55.3062 133.694,-49.4733 131.5542,-55.0253\"/>\n<text text-anchor=\"middle\" x=\"110.6963\" y=\"-65.5982\" font-family=\"Times,serif\" font-size=\"14.00\" fill=\"#000000\"> [1]</text>\n<text text-anchor=\"middle\" x=\"110.6963\" y=\"-50.5982\" font-family=\"Times,serif\" font-size=\"14.00\" fill=\"#000000\">1 </text>\n</g>\n<!-- q1&#45;&gt;q1 -->\n<g id=\"edge3\" class=\"edge\">\n<title>q1&#45;&gt;q1</title>\n<path fill=\"none\" stroke=\"#ff0000\" stroke-width=\"2.5\" d=\"M151.7253,-81.962C150.3201,-92.2362 153.0765,-101.5963 159.9945,-101.5963 164.8587,-101.5963 167.6654,-96.9688 168.4148,-90.6498\"/>\n<polygon fill=\"#ff0000\" stroke=\"#ff0000\" stroke-width=\"2.5\" points=\"171.3861,-90.4089 168.2636,-81.962 165.437,-90.5125 171.3861,-90.4089\"/>\n<text text-anchor=\"middle\" x=\"159.9945\" y=\"-120.3963\" font-family=\"Times,serif\" font-size=\"14.00\" fill=\"#000000\"> [2]</text>\n<text text-anchor=\"middle\" x=\"159.9945\" y=\"-105.3963\" font-family=\"Times,serif\" font-size=\"14.00\" fill=\"#000000\">0 </text>\n</g>\n<!-- q2 -->\n<g id=\"node4\" class=\"node\">\n<title>q2</title>\n<ellipse fill=\"none\" stroke=\"#000000\" cx=\"257.5908\" cy=\"-24.7982\" rx=\"20.6302\" ry=\"20.6302\"/>\n<ellipse fill=\"none\" stroke=\"#000000\" cx=\"257.5908\" cy=\"-24.7982\" rx=\"24.5979\" ry=\"24.5979\"/>\n<text text-anchor=\"middle\" x=\"257.5908\" y=\"-21.0982\" font-family=\"Times,serif\" font-size=\"14.00\" fill=\"#000000\">q2</text>\n</g>\n<!-- q1&#45;&gt;q2 -->\n<g id=\"edge5\" class=\"edge\">\n<title>q1&#45;&gt;q2</title>\n<path fill=\"none\" stroke=\"#000000\" d=\"M179.7445,-55.1083C193.0914,-49.9116 210.9966,-42.94 226.2699,-36.9932\"/>\n<polygon fill=\"#000000\" stroke=\"#000000\" points=\"227.5973,-39.669 234.4386,-33.8127 225.4384,-34.1245 227.5973,-39.669\"/>\n<text text-anchor=\"middle\" x=\"206.7926\" y=\"-50.5982\" font-family=\"Times,serif\" font-size=\"14.00\" fill=\"#000000\"> 1 </text>\n</g>\n<!-- q2&#45;&gt;q0 -->\n<g id=\"edge7\" class=\"edge\">\n<title>q2&#45;&gt;q0</title>\n<path fill=\"none\" stroke=\"#000000\" d=\"M232.7274,-21.9549C217.712,-20.3817 198.1794,-18.5889 180.7926,-17.7982 162.3245,-16.9582 157.665,-16.969 139.1963,-17.7982 123.1531,-18.5185 105.3049,-20.0703 90.7547,-21.5301\"/>\n<polygon fill=\"#000000\" stroke=\"#000000\" points=\"90.3155,-18.5846 82.1669,-22.419 90.9281,-24.503 90.3155,-18.5846\"/>\n<text text-anchor=\"middle\" x=\"159.9945\" y=\"-21.5982\" font-family=\"Times,serif\" font-size=\"14.00\" fill=\"#000000\"> 1 </text>\n</g>\n<!-- q2&#45;&gt;q2 -->\n<g id=\"edge6\" class=\"edge\">\n<title>q2&#45;&gt;q2</title>\n<path fill=\"none\" stroke=\"#000000\" d=\"M248.3623,-48.1303C247.4834,-58.5686 250.5595,-67.5963 257.5908,-67.5963 262.5346,-67.5963 265.5231,-63.1331 266.5563,-56.8546\"/>\n<polygon fill=\"#000000\" stroke=\"#000000\" points=\"269.5368,-56.7161 266.8193,-48.1303 263.5895,-56.5367 269.5368,-56.7161\"/>\n<text text-anchor=\"middle\" x=\"257.5908\" y=\"-71.3963\" font-family=\"Times,serif\" font-size=\"14.00\" fill=\"#000000\"> 0 </text>\n</g>\n</g>\n</svg>\n"
          },
          "metadata": {},
          "execution_count": 23
        }
      ]
    },
    {
      "cell_type": "markdown",
      "metadata": {
        "id": "bvAGI8oSpKIc"
      },
      "source": [
        "# **Pay attention !!**\n",
        "\n",
        "\n",
        "*   dfa.show_diagram(\"1001\") **vs** dfa.show_diagram()\n",
        "*   Red --> Rejected results\n",
        "*   Green --> accepted results\n",
        "*   Displaying a table with transitions states stepwise \n",
        "\n",
        "\n",
        "\n",
        "\n",
        "\n"
      ]
    }
  ]
}